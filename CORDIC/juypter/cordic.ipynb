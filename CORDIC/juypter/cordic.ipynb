{
 "cells": [
  {
   "cell_type": "markdown",
   "metadata": {},
   "source": [
    "# 导入Overlay"
   ]
  },
  {
   "cell_type": "code",
   "execution_count": 4,
   "metadata": {
    "extensions": {
     "jupyter_dashboards": {
      "version": 1,
      "views": {
       "default_view": {
        "col": 0,
        "height": 2,
        "row": 2,
        "width": 12
       }
      }
     }
    }
   },
   "outputs": [],
   "source": [
    "from pynq import Overlay\n",
    "from pynq import DefaultIP\n",
    "import math\n",
    "import numpy\n",
    "import matplotlib.pyplot as plt\n",
    "import time\n",
    "\n",
    "overlay = Overlay('./cordic.bit') #导入overlay"
   ]
  },
  {
   "cell_type": "markdown",
   "metadata": {
    "extensions": {
     "jupyter_dashboards": {
      "version": 1,
      "views": {
       "default_view": {
        "col": 0,
        "height": 2,
        "row": 4,
        "width": 12
       }
      }
     }
    }
   },
   "source": [
    "# 定义IP Driver"
   ]
  },
  {
   "cell_type": "code",
   "execution_count": 5,
   "metadata": {
    "extensions": {
     "jupyter_dashboards": {
      "version": 1,
      "views": {
       "default_view": {
        "hidden": true
       }
      }
     }
    }
   },
   "outputs": [],
   "source": [
    "class cordicDriver(DefaultIP):\n",
    "    def __init__(self, description):\n",
    "        super().__init__(description=description)\n",
    "\n",
    "    bindto = ['xilinx.com:hls:cordic:1.0']\n",
    "\n",
    "    def cal_sin(self, theta):\n",
    "        self.write(0x10, theta)\n",
    "        self.write(0x00,0b1)\n",
    "        return self.read(0x18)\n",
    "    \n",
    "    def cal_cos(self, theta):\n",
    "        self.write(0x10, theta)\n",
    "        self.write(0x00, 0b1)\n",
    "        return self.read(0x28)"
   ]
  },
  {
   "cell_type": "markdown",
   "metadata": {},
   "source": [
    "# 计算运行时间、分析sin和cos误差"
   ]
  },
  {
   "cell_type": "code",
   "execution_count": 10,
   "metadata": {
    "extensions": {
     "jupyter_dashboards": {
      "version": 1,
      "views": {
       "default_view": {
        "col": 0,
        "height": 2,
        "row": 8,
        "width": 12
       }
      }
     }
    }
   },
   "outputs": [
    {
     "name": "stdout",
     "output_type": "stream",
     "text": [
      "耗时：0.022477388381958008s\n",
      "耗时：0.0212857723236084s\n",
      "耗时：0.02105402946472168s\n",
      "耗时：0.02205038070678711s\n",
      "耗时：0.0209505558013916s\n",
      "耗时：0.021080732345581055s\n",
      "耗时：0.0209197998046875s\n",
      "耗时：0.0211331844329834s\n",
      "耗时：0.02083301544189453s\n",
      "耗时：0.023447751998901367s\n",
      "耗时：0.021327495574951172s\n",
      "耗时：0.020901203155517578s\n",
      "耗时：0.020908117294311523s\n",
      "耗时：0.020871877670288086s\n",
      "耗时：0.020743370056152344s\n",
      "耗时：0.02089214324951172s\n",
      "耗时：0.020781993865966797s\n",
      "耗时：0.020900964736938477s\n",
      "耗时：0.02082538604736328s\n",
      "耗时：0.023073911666870117s\n",
      "耗时：0.02158045768737793s\n",
      "耗时：0.021709918975830078s\n",
      "耗时：0.021520137786865234s\n",
      "耗时：0.02156829833984375s\n",
      "耗时：0.021585941314697266s\n",
      "耗时：0.021523475646972656s\n",
      "耗时：0.02167963981628418s\n",
      "耗时：0.021531105041503906s\n",
      "耗时：0.02152538299560547s\n",
      "耗时：0.023869752883911133s\n",
      "耗时：0.021526336669921875s\n",
      "耗时：0.021638154983520508s\n",
      "耗时：0.021512985229492188s\n",
      "耗时：0.021532058715820312s\n",
      "耗时：0.021584033966064453s\n",
      "耗时：0.021547794342041016s\n",
      "耗时：0.021518230438232422s\n",
      "耗时：0.021511316299438477s\n",
      "耗时：0.021481752395629883s\n",
      "耗时：0.024231672286987305s\n",
      "耗时：0.021646976470947266s\n",
      "耗时：0.02152705192565918s\n",
      "耗时：0.021489620208740234s\n",
      "耗时：0.02155160903930664s\n",
      "耗时：0.021515607833862305s\n",
      "耗时：0.021639108657836914s\n",
      "耗时：0.021493911743164062s\n",
      "耗时：0.021508455276489258s\n",
      "耗时：0.021549224853515625s\n",
      "耗时：0.022905826568603516s\n",
      "耗时：0.02154064178466797s\n",
      "耗时：0.02164459228515625s\n",
      "耗时：0.021726369857788086s\n",
      "耗时：0.021472930908203125s\n",
      "耗时：0.021642208099365234s\n",
      "耗时：0.021485567092895508s\n",
      "耗时：0.021512985229492188s\n",
      "耗时：0.02155780792236328s\n",
      "耗时：0.02685856819152832s\n",
      "耗时：0.021637916564941406s\n",
      "耗时：0.02154994010925293s\n",
      "耗时：0.021633148193359375s\n",
      "耗时：0.02156352996826172s\n",
      "耗时：0.021705150604248047s\n",
      "耗时：0.021601438522338867s\n",
      "耗时：0.021558046340942383s\n",
      "耗时：0.021655797958374023s\n",
      "耗时：0.021758317947387695s\n",
      "耗时：0.023209333419799805s\n",
      "耗时：0.021569252014160156s\n",
      "耗时：0.021631717681884766s\n",
      "耗时：0.021646738052368164s\n",
      "耗时：0.021537303924560547s\n",
      "耗时：0.02167677879333496s\n",
      "耗时：0.02152562141418457s\n",
      "耗时：0.021631956100463867s\n",
      "耗时：0.021520614624023438s\n",
      "耗时：0.02172374725341797s\n",
      "耗时：0.023786306381225586s\n",
      "耗时：0.021052122116088867s\n",
      "耗时：0.021598100662231445s\n",
      "耗时：0.021551847457885742s\n",
      "耗时：0.021600008010864258s\n",
      "耗时：0.02262139320373535s\n",
      "耗时：0.023013830184936523s\n",
      "耗时：0.022172927856445312s\n",
      "耗时：0.023231983184814453s\n",
      "耗时：0.02426934242248535s\n",
      "耗时：0.023419857025146484s\n",
      "耗时：0.022492170333862305s\n",
      "耗时：0.02158331871032715s\n",
      "The average running time is 0.0217981993497073 s\n"
     ]
    }
   ],
   "source": [
    "cos_ed = numpy.zeros(shape=(91,1))#计算0-90度之间所有角度，步长为1\n",
    "sin_ed = numpy.zeros(shape=(91,1))\n",
    "each_time = numpy.zeros(shape=(91,1))\n",
    "\n",
    "\n",
    "for angle in range (91):\n",
    "    theta = angle << 20 #转定点数\n",
    "    start_time = time.time()\n",
    "    cos = overlay.cordic_0.cal_cos(theta)\n",
    "    sin = overlay.cordic_0.cal_sin(theta)\n",
    "    end_time = time.time()\n",
    "    each_time[angle] = end_time - start_time\n",
    "    print(\"耗时：{}s\".format(end_time - start_time))\n",
    "    cos_bin = bin(cos) #转二进制\n",
    "    sin_bin = bin(sin)\n",
    "\n",
    "    cos_dec = 0\n",
    "    sin_dec = 0\n",
    "    for index,ch in enumerate (str(cos_bin[2:]),start = 1):\n",
    "        cos_dec = cos_dec + int(ch) * (2**(-index)) #转十进制小数\n",
    "    for index,ch in enumerate (str(sin_bin[2:]),start = 1):\n",
    "        sin_dec = sin_dec + int(ch) * (2**(-index))\n",
    "\n",
    "    cos_ed[angle] = abs(math.cos(math.radians(angle))-cos_dec) #计算cos error distance\n",
    "    sin_ed[angle] = abs(math.sin(math.radians(angle))-sin_dec) #计算sin error distance\n",
    "\n",
    "    #print(cos_ed[angle])\n",
    "    #print(sin_ed[angle])\n",
    "ef = each_time.flatten()\n",
    "total_time = 0\n",
    "for i in ef:\n",
    "    total_time = total_time + i\n",
    "average_time = total_time/91\n",
    "print(\"The average running time is\" , average_time , \"s\")\n"
   ]
  },
  {
   "cell_type": "markdown",
   "metadata": {},
   "source": [
    "# 将误差绘制成图像"
   ]
  },
  {
   "cell_type": "code",
   "execution_count": 7,
   "metadata": {
    "extensions": {
     "jupyter_dashboards": {
      "version": 1,
      "views": {
       "default_view": {
        "col": 0,
        "height": 2,
        "row": 10,
        "width": 12
       }
      }
     }
    }
   },
   "outputs": [
    {
     "data": {
      "image/png": "[encoded data removed]",
      "text/plain": [
       "<Figure size 720x360 with 2 Axes>"
      ]
     },
     "metadata": {
      "needs_background": "light"
     },
     "output_type": "display_data"
    }
   ],
   "source": [
    "ind=numpy.arange(91)\n",
    "\n",
    "plt.figure(figsize=(10, 5))\n",
    "plt.subplot(1,2,1)\n",
    "plt.bar(ind,cos_ed.flatten())\n",
    "plt.title(\"Cos Error\")\n",
    "plt.xlabel(\"Angle\")\n",
    "plt.ylabel(\"Error Distance\")\n",
    "#plt.xticks(ind)\n",
    "plt.tight_layout()\n",
    "\n",
    "plt.subplot(1,2,2)\n",
    "plt.bar(ind,sin_ed.flatten())\n",
    "plt.title(\"Sin Error\")\n",
    "plt.xlabel(\"Angle\")\n",
    "plt.ylabel(\"Error Distance\")\n",
    "#plt.xticks(ind)\n",
    "plt.tight_layout()"
   ]
  },
  {
   "cell_type": "code",
   "execution_count": null,
   "metadata": {
    "extensions": {
     "jupyter_dashboards": {
      "version": 1,
      "views": {
       "default_view": {
        "hidden": true
       }
      }
     }
    }
   },
   "outputs": [],
   "source": []
  }
 ],
 "metadata": {
  "extensions": {
   "jupyter_dashboards": {
    "activeView": "default_view",
    "version": 1,
    "views": {
     "default_view": {
      "cellMargin": 10,
      "defaultCellHeight": 40,
      "maxColumns": 12,
      "name": "active_view",
      "type": "grid"
     }
    }
   }
  },
  "kernelspec": {
   "display_name": "Python 3",
   "language": "python",
   "name": "python3"
  },
  "language_info": {
   "codemirror_mode": {
    "name": "ipython",
    "version": 3
   },
   "file_extension": ".py",
   "mimetype": "text/x-python",
   "name": "python",
   "nbconvert_exporter": "python",
   "pygments_lexer": "ipython3",
   "version": "3.8.2"
  }
 },
 "nbformat": 4,
 "nbformat_minor": 2
}
